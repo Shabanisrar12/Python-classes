{
 "cells": [
  {
   "cell_type": "code",
   "execution_count": 1,
   "id": "81c052af",
   "metadata": {},
   "outputs": [
    {
     "name": "stdout",
     "output_type": "stream",
     "text": [
      "Hello Shaban Israr\n"
     ]
    }
   ],
   "source": [
    "print(\"Hello Shaban Israr\");"
   ]
  },
  {
   "cell_type": "code",
   "execution_count": 1,
   "id": "500cb30f",
   "metadata": {},
   "outputs": [
    {
     "name": "stdout",
     "output_type": "stream",
     "text": [
      "['shaban', 'Usama', 'waseem', 'Bilal', 'Abbasi']\n"
     ]
    }
   ],
   "source": [
    "list1 = [\"shaban\" , \"Usama\" , \"waseem\", \"Bilal\" , \"Abbasi\"]\n",
    "print(list1)"
   ]
  },
  {
   "cell_type": "code",
   "execution_count": 7,
   "id": "0fe35262",
   "metadata": {},
   "outputs": [
    {
     "name": "stdout",
     "output_type": "stream",
     "text": [
      "['shaban', 'Usama', 'waseem', 'Bilal', 'Abbasi', 0, 'Ali']\n"
     ]
    }
   ],
   "source": [
    "list2 = list1\n",
    "print(list2)"
   ]
  },
  {
   "cell_type": "code",
   "execution_count": 9,
   "id": "d52cbfb4",
   "metadata": {},
   "outputs": [
    {
     "name": "stdout",
     "output_type": "stream",
     "text": [
      "['shaban', 'Usama', 'waseem', 'Bilal', 'Abbasi', 0, 'Ali', 'saqib']\n"
     ]
    }
   ],
   "source": [
    "list2 = list1\n",
    "print(list2)"
   ]
  },
  {
   "cell_type": "code",
   "execution_count": 10,
   "id": "e588317c",
   "metadata": {},
   "outputs": [
    {
     "name": "stdout",
     "output_type": "stream",
     "text": [
      "['shaban', 'Usama', 'waseem', 'Bilal', 'Abbasi', 0, 'Ali', 'saqib']\n"
     ]
    }
   ],
   "source": [
    "list2 = list1\n",
    "print(list2)"
   ]
  },
  {
   "cell_type": "code",
   "execution_count": null,
   "id": "ebbe0f98",
   "metadata": {},
   "outputs": [],
   "source": []
  }
 ],
 "metadata": {
  "kernelspec": {
   "display_name": "Python 3",
   "language": "python",
   "name": "python3"
  },
  "language_info": {
   "codemirror_mode": {
    "name": "ipython",
    "version": 3
   },
   "file_extension": ".py",
   "mimetype": "text/x-python",
   "name": "python",
   "nbconvert_exporter": "python",
   "pygments_lexer": "ipython3",
   "version": "3.8.8"
  }
 },
 "nbformat": 4,
 "nbformat_minor": 5
}
